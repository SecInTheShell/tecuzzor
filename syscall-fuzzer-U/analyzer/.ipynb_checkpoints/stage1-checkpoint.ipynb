{
 "cells": [
  {
   "cell_type": "code",
   "execution_count": 1,
   "id": "solid-greece",
   "metadata": {},
   "outputs": [],
   "source": [
    "original = []\n",
    "served = []"
   ]
  },
  {
   "cell_type": "code",
   "execution_count": 2,
   "id": "acquired-brisbane",
   "metadata": {},
   "outputs": [],
   "source": [
    "class Syscall:\n",
    "    def __init__(self, line: str):\n",
    "#         print(line)\n",
    "        \n",
    "        syscall = line.split(' = ')\n",
    "        assert(len(syscall) == 2)\n",
    "        self.rv = syscall[1].strip()\n",
    "        \n",
    "        syscall[0] = syscall[0].strip()\n",
    "        deliPos = syscall[0].index('(')\n",
    "        self.syscall = syscall[0][:deliPos]\n",
    "        \n",
    "        args = syscall[0][deliPos + 1: -1].split(',')\n",
    "        self.args = [x.strip() for x in args]"
   ]
  },
  {
   "cell_type": "code",
   "execution_count": 3,
   "id": "initial-grade",
   "metadata": {},
   "outputs": [],
   "source": [
    "def parseLog(log: str) -> list:\n",
    "\n",
    "    rawCalls = []\n",
    "    detectFlag = False\n",
    "    with open(log) as log_raw:\n",
    "        for line in log_raw:\n",
    "            if detectFlag and line[:5] != \"write\":\n",
    "                rawCalls.append(Syscall(line))\n",
    "                detectFlag = False\n",
    "            elif detectFlag:\n",
    "                rawCalls.append(None)\n",
    "                detectFlag = False\n",
    "\n",
    "            if \"----\" in line:\n",
    "                detectFlag = True\n",
    "    \n",
    "#     print(rawCalls)\n",
    "    return rawCalls\n"
   ]
  },
  {
   "cell_type": "code",
   "execution_count": 5,
   "id": "tender-balance",
   "metadata": {},
   "outputs": [
    {
     "name": "stdout",
     "output_type": "stream",
     "text": [
      "sendfile ['-1', '-1', 'NULL', '67108864'] -1 EBADF (Bad file descriptor)\n",
      "sendmsg ['12', '{msg_name=NULL', 'msg_namelen=0', 'msg_iov=[{iov_base=\"\\\\0\"', 'iov_len=1}]', 'msg_iovlen=1', 'msg_controllen=0', 'msg_flags=0}', 'MSG_NOSIGNAL'] 1\n"
     ]
    }
   ],
   "source": [
    "rawCalls = parseLog(\"./test_raw.log\")\n",
    "\n",
    "for call in rawCalls:\n",
    "    if call:\n",
    "        print(call.syscall, call.args, call.rv)"
   ]
  },
  {
   "cell_type": "code",
   "execution_count": 5,
   "id": "adjacent-fortune",
   "metadata": {},
   "outputs": [
    {
     "name": "stdout",
     "output_type": "stream",
     "text": [
      "gettimeofday ['{tv_sec=1614400580', 'tv_usec=44465}', 'NULL'] 0\n",
      "gettimeofday ['{tv_sec=1614400580', 'tv_usec=44537}', 'NULL'] 0\n",
      "gettimeofday ['{tv_sec=1614400580', 'tv_usec=44598}', 'NULL'] 0\n"
     ]
    }
   ],
   "source": [
    "grapheneCalls = parseLog(\"./test_rt.log\")\n",
    "\n",
    "for call in grapheneCalls:\n",
    "    if call:\n",
    "        print(call.syscall, call.args, call.rv)"
   ]
  },
  {
   "cell_type": "code",
   "execution_count": null,
   "id": "supported-bradley",
   "metadata": {},
   "outputs": [],
   "source": []
  },
  {
   "cell_type": "code",
   "execution_count": null,
   "id": "narrow-startup",
   "metadata": {},
   "outputs": [],
   "source": []
  }
 ],
 "metadata": {
  "kernelspec": {
   "display_name": "Python 3",
   "language": "python",
   "name": "python3"
  },
  "language_info": {
   "codemirror_mode": {
    "name": "ipython",
    "version": 3
   },
   "file_extension": ".py",
   "mimetype": "text/x-python",
   "name": "python",
   "nbconvert_exporter": "python",
   "pygments_lexer": "ipython3",
   "version": "3.6.9"
  }
 },
 "nbformat": 4,
 "nbformat_minor": 5
}
